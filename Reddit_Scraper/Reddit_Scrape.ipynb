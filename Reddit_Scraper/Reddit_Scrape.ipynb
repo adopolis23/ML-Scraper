{
 "cells": [
  {
   "cell_type": "code",
   "execution_count": 31,
   "id": "21d73db3",
   "metadata": {},
   "outputs": [],
   "source": [
    "#imports and variables\n",
    "\n",
    "import praw\n",
    "import csv\n",
    "\n",
    "from credentials import p_id, p_agent, p_secret, p_pass\n",
    "\n",
    "post_search_limit = 3\n",
    "sub_name = 'Stocks'\n",
    "csv_file = 'reddit_posts.csv'"
   ]
  },
  {
   "cell_type": "code",
   "execution_count": 32,
   "id": "e59b438e",
   "metadata": {},
   "outputs": [
    {
     "name": "stdout",
     "output_type": "stream",
     "text": [
      "False\n",
      "Adopolis23\n"
     ]
    }
   ],
   "source": [
    "#connect to reddit API\n",
    "#check authentication\n",
    "#select subreddit\n",
    "\n",
    "reddit = praw.Reddit(\n",
    "    client_id=p_id,\n",
    "    client_secret=p_secret,\n",
    "    password=p_pass,\n",
    "    user_agent='scrapper_bot',\n",
    "    username=p_agent,\n",
    ")\n",
    "\n",
    "print(reddit.read_only)\n",
    "print(reddit.user.me())\n",
    "\n",
    "\n",
    "# Subreddit to search\n",
    "subreddit = reddit.subreddit(sub_name) \n"
   ]
  },
  {
   "cell_type": "code",
   "execution_count": 33,
   "id": "12ef207f",
   "metadata": {},
   "outputs": [
    {
     "name": "stdout",
     "output_type": "stream",
     "text": [
      "Writing Post\n",
      "Writing Post\n",
      "Writing Post\n"
     ]
    }
   ],
   "source": [
    "#open csv file for post saving\n",
    "with open(csv_file, 'w', newline='', encoding='utf-8') as file:\n",
    "    writer = csv.writer(file)\n",
    "\n",
    "    #for each submission that is retrieved\n",
    "    for submission in subreddit.search(query='$', sort='new', limit=post_search_limit):\n",
    "        \n",
    "        #write title and text to csv\n",
    "        writer.writerow([submission.selftext])\n",
    "        \n",
    "        writer.writerow([\"*********************** END ***********************\\n\\n\\n\"])\n",
    "        \n",
    "        print(\"Writing Post\")\n"
   ]
  },
  {
   "cell_type": "code",
   "execution_count": null,
   "id": "b197c56f",
   "metadata": {},
   "outputs": [],
   "source": []
  }
 ],
 "metadata": {
  "kernelspec": {
   "display_name": "Python 3 (ipykernel)",
   "language": "python",
   "name": "python3"
  },
  "language_info": {
   "codemirror_mode": {
    "name": "ipython",
    "version": 3
   },
   "file_extension": ".py",
   "mimetype": "text/x-python",
   "name": "python",
   "nbconvert_exporter": "python",
   "pygments_lexer": "ipython3",
   "version": "3.9.7"
  }
 },
 "nbformat": 4,
 "nbformat_minor": 5
}
