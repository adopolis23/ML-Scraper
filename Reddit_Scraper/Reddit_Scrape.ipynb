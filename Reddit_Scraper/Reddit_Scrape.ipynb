{
 "cells": [
  {
   "cell_type": "markdown",
   "id": "369c89b4",
   "metadata": {},
   "source": [
    "## Read Reddit Posts to CSV File"
   ]
  },
  {
   "cell_type": "code",
   "execution_count": 13,
   "id": "21d73db3",
   "metadata": {},
   "outputs": [],
   "source": [
    "#imports and variables\n",
    "\n",
    "import praw\n",
    "import csv\n",
    "\n",
    "from credentials import p_id, p_agent, p_secret, p_pass\n",
    "\n",
    "post_search_limit = 10\n",
    "sub_name = 'Stocks'\n",
    "csv_file = 'reddit_posts.csv'\n",
    "data_folder = 'data/'"
   ]
  },
  {
   "cell_type": "code",
   "execution_count": 7,
   "id": "e59b438e",
   "metadata": {},
   "outputs": [
    {
     "name": "stdout",
     "output_type": "stream",
     "text": [
      "False\n",
      "Adopolis23\n"
     ]
    }
   ],
   "source": [
    "#connect to reddit API\n",
    "#check authentication\n",
    "#select subreddit\n",
    "\n",
    "reddit = praw.Reddit(\n",
    "    client_id=p_id,\n",
    "    client_secret=p_secret,\n",
    "    password=p_pass,\n",
    "    user_agent='scrapper_bot',\n",
    "    username=p_agent,\n",
    ")\n",
    "\n",
    "print(reddit.read_only)\n",
    "print(reddit.user.me())\n",
    "\n",
    "\n",
    "# Subreddit to search\n",
    "subreddit = reddit.subreddit(sub_name) \n"
   ]
  },
  {
   "cell_type": "code",
   "execution_count": 9,
   "id": "3b1237db",
   "metadata": {},
   "outputs": [],
   "source": [
    "#function to return date of post\n",
    "import datetime\n",
    "def get_date(submission):\n",
    "    time = submission.created\n",
    "    return datetime.datetime.fromtimestamp(time)"
   ]
  },
  {
   "cell_type": "code",
   "execution_count": 12,
   "id": "12ef207f",
   "metadata": {},
   "outputs": [],
   "source": [
    "#open csv file for post saving\n",
    "with open(csv_file, 'w', newline='', encoding='utf-8') as file:\n",
    "    writer = csv.writer(file)\n",
    "\n",
    "    #for each submission that is retrieved\n",
    "    #for submission in subreddit.search(query='$', sort='new', limit=post_search_limit):\n",
    "    for submission in subreddit.new(limit=post_search_limit):\n",
    "        \n",
    "        #write title and text to csv\n",
    "        writer.writerow([submission.title])\n",
    "        writer.writerow([submission.selftext])\n",
    "        \n",
    "        #writer.writerow([submission.title, submission.selftext, get_date(submission).day])\n",
    "        \n",
    "        #print(get_date(submission).day)\n",
    "\n"
   ]
  },
  {
   "cell_type": "markdown",
   "id": "eeccc828",
   "metadata": {},
   "source": [
    "## Read in CSV File and Convert to Dataset"
   ]
  },
  {
   "cell_type": "code",
   "execution_count": 65,
   "id": "4f3d7960",
   "metadata": {},
   "outputs": [
    {
     "name": "stdout",
     "output_type": "stream",
     "text": [
      "[('KEY', 1), ('ETF,', 1), ('ETF', 1), ('SPY,', 1), ('BIG', 1), ('ALL', 1), ('ITM', 1), ('IPO', 1), ('HKD', 1), ('NOT', 1), ('TSMC', 1), ('WSJ', 1), ('ATH', 1), ('LEN,', 1), ('LZB', 1), ('XLK', 2), ('S&P', 2), ('MSFT', 2), ('BABA', 2), ('NVDA', 3), ('SPDR', 4), ('SPY', 6)]\n"
     ]
    }
   ],
   "source": [
    "#dictionary to hold tickers and number of times seen\n",
    "tickers_seen = {}\n",
    "\n",
    "\n",
    "with open(csv_file, mode ='r')as file:\n",
    "  csvFile = csv.reader(file)\n",
    "\n",
    "  for lines in csvFile:\n",
    "        \n",
    "        #for each word in title\n",
    "        for word in lines[0].split():\n",
    "            \n",
    "            #remove periods\n",
    "            word = word.replace('.', '')\n",
    "            \n",
    "            #if word is correct length to be ticker and all uppercase\n",
    "            if (len(word)==3 or len(word)==4) and word.isupper():\n",
    "                \n",
    "                #add to dict if not already in, else increment by 1\n",
    "                if word not in tickers_seen:\n",
    "                    tickers_seen[word] = 1\n",
    "                else:\n",
    "                    tickers_seen[word] = tickers_seen[word] + 1\n",
    "\n",
    "\n",
    "sorted_tickers_seen = sorted(tickers_seen.items(), key=lambda x:x[1])\n",
    "print(sorted_tickers_seen)\n",
    "        \n",
    "        "
   ]
  },
  {
   "cell_type": "code",
   "execution_count": null,
   "id": "587c533a",
   "metadata": {},
   "outputs": [],
   "source": []
  }
 ],
 "metadata": {
  "kernelspec": {
   "display_name": "Python 3 (ipykernel)",
   "language": "python",
   "name": "python3"
  },
  "language_info": {
   "codemirror_mode": {
    "name": "ipython",
    "version": 3
   },
   "file_extension": ".py",
   "mimetype": "text/x-python",
   "name": "python",
   "nbconvert_exporter": "python",
   "pygments_lexer": "ipython3",
   "version": "3.9.7"
  }
 },
 "nbformat": 4,
 "nbformat_minor": 5
}
