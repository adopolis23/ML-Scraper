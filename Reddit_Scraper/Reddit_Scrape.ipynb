{
 "cells": [
  {
   "cell_type": "markdown",
   "id": "369c89b4",
   "metadata": {},
   "source": [
    "## Read Reddit Posts to CSV File"
   ]
  },
  {
   "cell_type": "code",
   "execution_count": 13,
   "id": "21d73db3",
   "metadata": {},
   "outputs": [],
   "source": [
    "#imports and variables\n",
    "\n",
    "import praw\n",
    "import csv\n",
    "\n",
    "from credentials import p_id, p_agent, p_secret, p_pass\n",
    "\n",
    "post_search_limit = 1000\n",
    "sub_name = 'Stocks'\n",
    "csv_file = 'reddit_posts.csv'\n",
    "data_folder = 'data/'"
   ]
  },
  {
   "cell_type": "code",
   "execution_count": 14,
   "id": "e59b438e",
   "metadata": {},
   "outputs": [
    {
     "name": "stdout",
     "output_type": "stream",
     "text": [
      "False\n",
      "Adopolis23\n"
     ]
    }
   ],
   "source": [
    "#connect to reddit API\n",
    "#check authentication\n",
    "#select subreddit\n",
    "\n",
    "reddit = praw.Reddit(\n",
    "    client_id=p_id,\n",
    "    client_secret=p_secret,\n",
    "    password=p_pass,\n",
    "    user_agent='scrapper_bot',\n",
    "    username=p_agent,\n",
    ")\n",
    "\n",
    "print(reddit.read_only)\n",
    "print(reddit.user.me())\n",
    "\n",
    "\n",
    "# Subreddit to search\n",
    "subreddit = reddit.subreddit(sub_name) \n"
   ]
  },
  {
   "cell_type": "code",
   "execution_count": 15,
   "id": "3b1237db",
   "metadata": {},
   "outputs": [],
   "source": [
    "#function to return date of post\n",
    "import datetime\n",
    "def get_date(submission):\n",
    "    time = submission.created\n",
    "    return datetime.datetime.fromtimestamp(time)"
   ]
  },
  {
   "cell_type": "code",
   "execution_count": 16,
   "id": "12ef207f",
   "metadata": {},
   "outputs": [],
   "source": [
    "#open csv file for post saving\n",
    "with open(csv_file, 'w', newline='', encoding='utf-8') as file:\n",
    "    writer = csv.writer(file)\n",
    "\n",
    "    #for each submission that is retrieved\n",
    "    #for submission in subreddit.search(query='$', sort='new', limit=post_search_limit):\n",
    "    for submission in subreddit.new(limit=post_search_limit):\n",
    "        \n",
    "        #write title and text to csv\n",
    "        writer.writerow([submission.title])\n",
    "        writer.writerow([submission.selftext])\n",
    "        \n",
    "        #writer.writerow([submission.title, submission.selftext, get_date(submission).day])\n",
    "        \n",
    "        #print(get_date(submission).day)\n",
    "\n"
   ]
  },
  {
   "cell_type": "markdown",
   "id": "eeccc828",
   "metadata": {},
   "source": [
    "## Read in CSV File and Convert to Dataset"
   ]
  },
  {
   "cell_type": "code",
   "execution_count": 17,
   "id": "4f3d7960",
   "metadata": {},
   "outputs": [
    {
     "name": "stdout",
     "output_type": "stream",
     "text": [
      "[('AMD?', 1), ('S-1', 1), ('POS', 1), ('(WSM', 1), ('TWO', 1), ('(S&P', 1), ('IMI', 1), ('STLD', 1), ('US”', 1), ('TX,', 1), ('-FSD', 1), ('-GM,', 1), ('TBD)', 1), ('$25K', 1), ('-USA', 1), ('TSM', 1), ('BET', 1), ('FCC', 1), ('KEY', 1), ('BIG', 1), ('ALL', 1), ('HKD', 1), ('LEN,', 1), ('LZB', 1), ('OHLC', 1), ('$25B', 1), ('$44B', 1), ('$19B', 1), ('$7B', 1), ('IRL', 1), ('EWZ', 1), ('VALE', 1), ('RIO', 1), ('EWZ,', 1), ('BRZU', 1), ('EBIT', 1), ('LOC', 1), ('SOFR', 1), ('ITM,', 1), ('NOYB', 1), ('ETSY', 1), ('KR,', 1), ('JMP', 1), ('TZE,', 1), ('$98M', 1), ('TZE', 1), ('PTD', 1), ('531B', 1), ('529B', 1), ('OSTX', 1), ('TA?', 1), ('DCA?', 1), ('FIFO', 1), ('LIFO', 1), ('20C', 1), ('DFV', 1), ('IAS', 1), ('ARM,', 1), ('FED', 1), ('MSM', 1), ('(AI)', 1), ('ETN,', 1), ('VRT,', 1), ('~14B', 1), ('22B', 1), ('10B', 1), ('NPV', 1), ('AMR', 1), ('WAL', 1), ('HCC,', 1), ('AISC', 1), ('\"BUY', 1), ('ME\"', 1), ('USD,', 1), ('RSF)', 1), ('$10T', 1), ('ARKK', 1), ('FT,', 1), ('PLAY', 1), ('(CPI', 1), ('SNC', 1), ('AML', 1), ('BWXT', 1), ('DDOG', 1), ('RKLB', 1), ('NXE', 1), ('INC', 1), ('COM', 1), ('ISIN', 1), ('USA,', 1), ('P/S,', 1), ('USP', 1), ('VWOB', 1), ('GTC', 1), ('AZO', 1), ('ORLY', 1), ('SIPP', 1), ('**I', 1), ('CPA', 1), ('$17B', 1), ('$34B', 1), ('FYI:', 1), ('EURO', 1), ('LUV', 1), ('WFC', 1), ('EMA,', 1), ('BANK', 1), ('53M', 1), ('60M)', 1), ('IDC,', 1), ('GPT', 1), ('OAI,', 1), ('S3,', 1), ('$FCX', 1), ('$TPC', 1), ('S&P,', 1), ('GME-', 1), ('12B', 1), ('75M', 1), ('WAY', 1), ('182K', 1), ('165K', 1), ('Y/Y,', 1), ('ATL?', 1), ('SOXL', 1), ('SEC,', 1), ('**A', 1), ('NLY,', 1), ('“R2”', 1), ('YOY', 1), ('$3T', 1), ('LIF', 1), ('PGIM', 1), ('CNN:', 1), ('FREE', 1), ('TLT,', 1), ('(USA', 1), ('S&P?', 1), ('WKME', 1), ('SAY', 1), ('R&D?', 1), ('AI”', 1), ('GPT,', 1), ('$90M', 1), ('146K', 1), ('PFOF', 1), ('IVAS', 1), ('W365', 1), ('BOA', 1), ('[IEX', 1), ('$DEO', 1), ('PLC', 1), ('SRCL', 1), ('$72B', 1), ('\"AMD', 1), ('VTI,', 1), ('VXUS', 1), ('ZIRP', 1), ('[S&P', 1), ('HSI,', 1), ('FFR', 1), ('NFCI', 1), ('FCI', 1), ('DJI,', 1), ('BBB', 1), ('SMG', 1), ('52W', 1), ('NLY:', 1), ('STWD', 1), ('BXMT', 1), ('THE', 1), ('RTL', 1), ('CTV,', 1), ('MAD*', 1), ('CMA', 1), ('CGM', 1), ('NVDL', 1), ('LAC', 1), ('PPA,', 1), ('ITA', 1), ('ITA,', 1), ('PPA', 1), ('LMT,', 1), ('NOC,', 1), ('GD,', 1), ('HII)', 1), ('HII', 1), ('BAH,', 1), ('PSN,', 1), ('ADI,', 1), ('TDG,', 1), ('HEI,', 1), ('HWM,', 1), ('OII,', 1), ('BOXX', 1), ('XOM', 1), ('VEU', 1), ('ACWX', 1), ('XLV', 1), ('IWM', 1), ('FGS', 1), ('ISIS', 1), ('(TM)', 1), ('LOVE', 1), ('PE:', 1), ('244U', 1), ('PCE,', 1), ('FQ3', 1), ('F/X', 1), ('$12B', 1), ('$92B', 1), ('50K', 1), ('VUSA', 1), ('VUAG', 1), ('318B', 1), ('334B', 1), ('42M', 1), ('317M', 1), ('16M', 1), ('69M', 1), ('GDP:', 1), ('BEA', 1), ('NTNX', 1), ('MDB', 1), ('SHW', 1), ('(“C3', 1), ('AI,”', 1), ('AI),', 1), ('TJX', 1), ('“A&F', 1), ('US**', 1), ('MGM', 1), ('(BX)', 1), ('BTIG', 1), ('FLUT', 1), ('ENPH', 1), ('SEDG', 1), ('AXP?', 1), ('NVDX', 1), ('ADR', 1), ('319T', 1), ('291T', 1), ('4T,', 1), ('Q-1', 1), ('[15M', 1), ('PCR', 1), ('E&E', 1), ('CMG', 1), ('LLY?', 1), ('GLP', 1), ('NVO', 1), ('LLY', 1), ('PLUG', 1), ('FCEL', 1), ('$BA', 1), ('COKE', 1), ('UK?', 1), ('RDR', 1), ('$1M+', 1), ('GICS', 1), ('ETFS', 1), ('MRNA', 1), ('$SJM', 1), ('OK,', 1), ('$1K', 1), ('787M', 1), ('DD-', 1), ('USSF', 1), ('SCIF', 1), ('OS)', 1), ('IMO', 1), ('ROTH', 1), ('OVER', 1), ('BRZE', 1), ('LOA', 1), ('AAWH', 1), ('BHP', 1), ('485B', 1), ('482B', 1), ('BHP-', 1), ('TJX-', 1), ('NYU', 1), ('AGI,', 1), ('ROIC', 1), ('WSB', 1), ('SOXS', 1), ('SPXS', 1), ('KFF', 1), ('(EPS', 1), ('197B', 1), ('347B', 1), ('655B', 1), ('IPO)', 1), ('PTON', 1), ('20M', 1), ('RWAY', 1), ('PTMN', 1), ('HP,', 1), ('PC”', 1), ('SBUX', 1), ('62B', 1), ('MACK', 1), ('24X', 1), ('TASE', 1), ('AUM', 1), ('M-F', 1), ('SAN', 1), ('SCHW', 1), ('-3M,', 1), ('875M', 1), ('134B', 1), ('CB-', 1), ('API,', 1), ('“X”', 1), ('(VIS', 1), ('VFH)', 1), ('FS1,', 1), ('FS2,', 1), ('$SE', 1), ('SE)', 1), ('(UE)', 1), ('**Q1', 1), ('BUY', 1), ('DELL', 1), ('$5M', 1), ('DSA,', 1), ('CIO', 1), ('VAR', 1), ('ODM', 1), ('NC,', 1), ('184M', 1), ('192M', 1), ('ONVO', 1), ('SUV)', 1), ('Y2K', 1), ('MJUS', 1), ('T+2', 1), ('CCS1', 1), ('*HBO', 1), ('SMB', 1), ('DIY', 1), ('SRS', 1), ('SIE', 1), ('I&SS', 1), ('PUBG', 1), ('EMH', 1), ('(FF)', 1), ('A24', 1), ('NVO?', 1), ('CDMO', 1), ('S24,', 1), ('NEW', 1), ('GM,', 1), ('SAIC', 1), ('NT$4', 1), ('GPS,', 1), ('152M', 1), ('Q124', 1), ('NI;', 1), ('EPS;', 1), ('IRA?', 1), ('HOLD', 1), ('SOLV', 1), ('CPG', 1), ('DC,', 1), ('FX,', 1), ('GRPN', 1), ('801M', 1), ('931M', 1), ('618M', 1), ('534M', 1), ('928M', 1), ('885M', 1), ('APE)', 1), ('P/E,', 1), ('600M', 1), ('TBS,', 1), ('ICE', 1), ('ICE,', 1), ('FOMO', 1), ('300M', 1), ('790M', 1), ('F&B', 1), ('“B+”', 1), ('99M', 1), ('AMC,', 1), ('CE,', 1), ('HOOD', 1), ('243M', 1), ('212M', 1), ('117B', 1), ('TBH', 1), ('**US', 1), ('*FSD', 1), ('FSD*', 1), (\"AWS'\", 1), ('(SF', 1), ('255M', 1), ('R2,', 1), ('R3,', 1), ('$15M', 1), ('-ARM', 1), ('Q4”', 1), ('ADV', 1), ('N/A', 1), ('843K', 1), ('336M', 1), ('GEN', 1), ('$14B', 1), ('TSX,', 1), ('DOW', 1), ('LG,', 1), ('(T),', 1), ('28T', 1), ('BOD', 1), ('ASCO', 1), ('SAR?', 1), ('908B', 1), ('900B', 1), ('27B', 1), ('CBD', 1), ('BTI', 1), ('IMB?', 1), ('$SQ', 1), ('LTV', 1), ('CAC', 1), ('MUP', 1), ('FXI,', 1), ('VIE', 1), ('306B', 1), ('272B', 1), ('FSLY', 1), ('BX),', 1), ('FIT)', 1), ('(FY', 1), ('QCT,', 1), ('QTL,', 1), ('M2?', 1), ('LTL', 1), ('JNJ', 1), ('JNJ?', 1), ('C$34', 1), ('PIF,', 1), ('(US)', 1), ('740M', 1), ('700M', 1), ('856B', 1), ('914B', 1), ('SQ-', 1), ('PBM', 1), ('GFC', 1), ('HAVE', 1), ('EPYC', 1), ('“AMD', 1), (\"HHS'\", 1), ('CSE,', 1), ('MUSK', 1), ('WILL', 1), ('“F45', 1), ('HIIT', 1), ('“A-”', 1), ('ARE', 1), ('THC-', 1), ('537B', 1), ('514B', 1), ('77B', 1), ('75B', 1), ('CET1', 1), ('(P/E', 1), ('FT:', 1), ('ETH', 1), ('@FT', 1), ('MUCH', 1), ('OSS', 1), ('DRAM', 1), ('SSD', 1), ('Q3,', 1), ('HBM', 1), ('(12H', 1), ('12H', 1), ('32GB', 1), ('DDR5', 1), ('HBM3', 1), ('JPM,', 1), ('FCY', 1), ('FCY)', 1), ('CIB', 1), ('MAY', 1), ('MTV', 1), ('API', 1), ('SSGA', 1), ('645M', 1), ('567M', 1), ('ET,', 1), ('460X', 1), ('$60M', 1), ('FIFA', 1), ('\"AWS', 1), ('ACH', 1), ('ZS,', 1), ('NOW', 1), ('UFC)', 1), ('OXLC', 1), ('VWCE', 1), ('RFR', 1), ('565M', 1), ('BYND', 1), ('(ATH', 1), ('IV\"', 1), ('A&W,', 1), ('NBA,', 1), ('LVS', 1), ('(KEP', 1), ('>“I', 1), ('$70B', 1), ('219B', 1), ('FY24', 1), ('10-Q', 1), ('DDI', 1), ('DAU', 1), ('BA-', 1), ('CME', 1), ('HPV,', 1), ('FBTC', 1), ('ARKB', 1), ('(KO)', 1), ('BEA,', 1), ('ATM,', 1), ('OPEC', 1), ('IMO,', 1), ('FSD,', 1), ('MOAT', 1), ('LOL', 1), ('WBD,', 1), ('20K', 1), ('18A', 1), ('HVM', 1), ('TTM', 1), ('FAA', 1), ('CEO?', 1), ('CA,', 1), ('$47B', 1), ('$51B', 1), ('$38B', 1), ('RTX', 1), ('DJT)', 1), ('TMTG', 1), ('DRS,', 1), ('$10K', 1), ('13D', 1), ('13D,', 1), ('ARPU', 1), ('EUR!', 1), ('PGX', 1), ('OS,”', 1), ('NEE,', 1), ('16B', 1), ('A/AA', 1), ('SUV*', 1), ('VXX', 1), ('ETF)', 1), ('VTI?', 1), ('AVUV', 1), ('$45B', 1), ('SHI', 1), ('TSX)', 1), ('HL)', 1), ('HMRC', 1), ('PARA', 1), ('GIF', 1), ('DZSI', 1), ('FAQ', 1), ('401K', 1), ('EUV\"', 1), ('14A', 1), ('SNAP', 1), ('AR,', 1), ('66B', 1), ('COP', 2), ('COP,', 2), ('$DJT', 2), ('RIP', 2), ('-AMD', 2), ('SPY,', 2), ('YHOO', 2), ('UBS', 2), ('BMO', 2), ('ISI', 2), ('$RUN', 2), ('AMEX', 2), ('B2B', 2), ('TIA', 2), ('IRS', 2), ('QQQM', 2), ('F500', 2), ('JWN', 2), ('TPU', 2), ('OEM', 2), ('NOW,', 2), ('OCF', 2), ('14B', 2), ('M&I', 2), ('RDM', 2), ('WSJ,', 2), ('RUN', 2), ('ELF', 2), ('SHOP', 2), ('10-K', 2), ('LSE', 2), ('UPS', 2), ('IRA)', 2), ('(US', 2), ('CFD', 2), ('$2B', 2), ('**DZ', 2), ('OAI', 2), ('SABA', 2), ('VOO?', 2), ('45M', 2), ('ECB', 2), ('DOJ,', 2), ('FTC,', 2), ('NATO', 2), ('$10M', 2), ('AI:', 2), ('SMH,', 2), ('XMHQ', 2), ('SCHG', 2), ('LULU', 2), ('DUOL', 2), ('CEO”', 2), ('120K', 2), ('EPP', 2), ('MMM', 2), ('PC,', 2), ('$WM', 2), ('NO,', 2), ('YES,', 2), ('MPW', 2), ('NLY', 2), ('MGNI', 2), ('OTC', 2), ('IDK', 2), ('ETF\"', 2), ('XAR', 2), ('GE,', 2), ('SGOV', 2), ('DJT-', 2), ('$27B', 2), ('$30M', 2), ('$40M', 2), ('GDP,', 2), ('EVP,', 2), ('T+1', 2), ('NEM', 2), ('AXP', 2), ('IEDI', 2), ('FSLR', 2), ('COGS', 2), ('ROI', 2), ('“BB”', 2), ('AVAV', 2), ('IWDA', 2), ('LOT', 2), ('HUGE', 2), ('DCA', 2), ('APY', 2), ('FY25', 2), ('CALL', 2), ('BCG', 2), ('RSV', 2), ('(CEO', 2), ('AWS,', 2), ('198B', 2), ('ZM,', 2), ('FYI', 2), ('$11B', 2), ('SMCI', 2), ('MTTR', 2), ('DFS', 2), ('*KEY', 2), ('$5K', 2), ('RICK', 2), ('NFLX', 2), ('LVMH', 2), ('%DTC', 2), ('US*', 2), ('PPI', 2), ('PS5', 2), ('ATB', 2), ('CPCA', 2), ('GP;', 2), ('OI;', 2), ('GM;', 2), ('US?', 2), ('Q2,', 2), ('CNN,', 2), ('ABC', 2), ('SEA,', 2), ('COL', 2), ('NWC:', 2), ('128B', 2), ('(PI)', 2), ('QYLD', 2), ('MEP', 2), ('NIO?', 2), ('NIO', 2), ('BRKB', 2), ('SAVA', 2), ('SAR', 2), ('NLRB', 2), ('TMX', 2), ('CVS’', 2), ('KFC', 2), ('HHS', 2), ('CHGG', 2), ('UCLA', 2), ('P/L', 2), ('CPU', 2), ('KRW', 2), ('SPLG', 2), ('HCA', 2), ('DRS', 2), ('L7,', 2), ('L8,', 2), ('L9,', 2), ('MEGA', 2), ('WMT', 2), ('TV,', 2), ('EUV', 2), ('NAI', 3), ('AMC', 3), ('**AI', 3), ('RIOT', 3), ('BITF', 3), ('IPO?', 3), ('EQX', 3), ('EDT', 3), ('TAM', 3), ('CFO,', 3), ('AND', 3), ('QQQ,', 3), ('LLM', 3), ('AGNC', 3), ('SUV,', 3), ('**Q2', 3), ('TMF', 3), ('SMH', 3), ('[US', 3), ('SAP', 3), ('CRWD', 3), ('IEX', 3), ('CTV', 3), ('IVR', 3), ('EPS)', 3), ('ADS', 3), ('SIRI', 3), ('YTD,', 3), ('GTA', 3), ('ULTA', 3), ('FOMC', 3), ('MCD', 3), ('PANW', 3), ('GLP1', 3), ('NICE', 3), ('$5B', 3), ('AT&T', 3), ('DSA', 3), ('L60', 3), ('SU7', 3), ('D&A:', 3), ('JEPQ', 3), ('NACS', 3), ('EPS,', 3), ('ABC,', 3), ('AMRK', 3), ('MTR', 3), ('GMV', 3), ('R&D,', 3), ('0DTE', 3), ('J&J', 3), ('PIF', 3), ('BRIM', 3), ('DEA', 3), ('F45', 3), ('NAND', 3), ('VISA', 3), ('WWE', 3), ('UFC', 3), ('BDT', 3), ('CRM', 4), ('MSCI', 4), ('CBS', 4), ('RBC', 4), ('ETF,', 4), ('BYD,', 4), ('“AI', 4), ('III', 4), ('DKNG', 4), ('TBS', 4), ('NBC', 4), ('BNPL', 4), ('CEO,', 4), ('REIT', 4), ('EDIT', 4), ('KKR,', 4), ('SUV', 4), ('R1S', 4), ('R1T', 4), ('$1B', 4), ('VUG', 4), ('ADP', 4), ('BTC', 4), ('ARR', 4), ('FDIC', 4), ('VOO,', 4), ('MCAP', 4), ('UK,', 4), ('SQQQ', 4), ('AMD,', 4), ('D&A,', 4), ('Q1,', 4), ('HBO,', 4), ('PLTR', 4), ('Q&A', 4), ('DTC', 4), ('JEPI', 4), ('NBC,', 4), ('ASML', 4), ('ISA', 4), ('SOFI', 5), ('SPDR', 5), ('XLK', 5), ('WSJ', 5), ('IBRX', 5), ('YTD', 5), ('USD', 5), ('RILY', 5), ('R&D', 5), ('10Y', 5), ('NWC', 5), ('DOJ', 5), ('IPO,', 5), ('KKR', 5), ('MSEM', 5), ('RUT', 5), ('IXIC', 5), ('ZIM', 5), ('M/M', 5), ('WYNN', 5), ('10K', 5), ('MAU,', 5), ('WARN', 5), ('I/O', 5), ('NEV', 5), ('UBER', 5), ('*US', 5), ('S24', 5), ('NYCB', 5), ('TKO', 5), ('MRO', 6), ('ATH,', 6), ('VTI', 6), ('ETF?', 6), ('FCF', 6), ('TNT,', 6), ('ERP', 6), ('COE', 6), ('(5D', 6), ('O/S', 6), ('$50M', 6), ('IBKR', 6), ('Y/Y)', 6), ('TLT', 6), ('H100', 6), ('EPS:', 6), ('SML', 6), ('QQQ', 6), ('AAA', 6), ('P&G', 6), ('ARK', 7), ('RDDT', 7), ('JPM', 7), ('SNOW', 7), ('HSI', 7), ('SPX', 7), ('Y/Y', 7), ('MAU', 7), ('COD', 7), ('FY23', 7), ('HIMS', 7), ('ATOS', 7), ('BABA', 8), ('CAGR', 8), ('USA', 8), ('CPI', 8), ('GOOG', 8), ('WWDC', 8), ('SPWR', 8), ('BAC', 8), ('ISS', 8), ('WBD', 8), ('HSBC', 8), ('RSI', 9), ('VWAP', 9), ('MACD', 9), ('ATR', 9), ('FTC', 9), ('BETA', 9), ('PDF', 9), ('NYSE', 9), ('DCF', 9), ('ESPP', 9), ('BA,', 9), ('EUR', 10), ('PEG', 10), ('(1M', 10), ('MBLY', 10), ('VOO', 10), ('GPU', 10), ('META', 10), ('TV+', 10), ('M&A', 11), ('OTM', 11), ('SMA', 11), ('ATM', 11), ('AMZN', 11), ('MAR', 11), ('SPY', 12), ('ITM', 12), ('ATH', 12), ('AWS', 12), ('TNT', 12), ('MSOS', 12), ('FDA', 12), ('PCE', 12), ('DJT', 12), ('MSFT', 13), ('GDP', 13), ('BYD', 13), ('IRA', 14), ('GME', 14), ('ESPN', 16), ('SEA', 17), ('IBM', 17), ('Q/Q', 18), ('CFO', 18), ('TSMC', 19), ('US,', 19), ('AI,', 20), ('AAPL', 21), ('CVS', 21), ('NFL', 21), ('CROX', 21), ('FSD', 24), ('LOGI', 24), ('INTC', 25), ('NBA', 25), ('AMD', 26), ('EPS\"', 26), ('SEC', 26), ('FICO', 26), ('MTCH', 27), ('PLNT', 27), ('GAAP', 28), ('P/E', 28), ('IPO', 32), ('TSLA', 33), ('GRAB', 33), ('ETF', 34), ('NOT', 40), ('NVDA', 43), ('CNBC', 56), ('LSEG', 70), ('S&P', 79), ('EPS', 101), ('CEO', 194)]\n"
     ]
    }
   ],
   "source": [
    "#dictionary to hold tickers and number of times seen\n",
    "tickers_seen = {}\n",
    "\n",
    "\n",
    "with open(csv_file, mode ='r', encoding=\"utf8\")as file:\n",
    "  csvFile = csv.reader(file)\n",
    "\n",
    "  for lines in csvFile:\n",
    "        \n",
    "        #for each word in title\n",
    "        for word in lines[0].split():\n",
    "            \n",
    "            #remove periods\n",
    "            word = word.replace('.', '')\n",
    "            \n",
    "            #if word is correct length to be ticker and all uppercase\n",
    "            if (len(word)==3 or len(word)==4) and word.isupper():\n",
    "                \n",
    "                #add to dict if not already in, else increment by 1\n",
    "                if word not in tickers_seen:\n",
    "                    tickers_seen[word] = 1\n",
    "                else:\n",
    "                    tickers_seen[word] = tickers_seen[word] + 1\n",
    "\n",
    "\n",
    "sorted_tickers_seen = sorted(tickers_seen.items(), key=lambda x:x[1])\n",
    "print(sorted_tickers_seen)\n",
    "        \n",
    "        "
   ]
  },
  {
   "cell_type": "code",
   "execution_count": null,
   "id": "587c533a",
   "metadata": {},
   "outputs": [],
   "source": []
  },
  {
   "cell_type": "code",
   "execution_count": null,
   "id": "ee22ce7b-de2c-4295-807f-eb886a2b381d",
   "metadata": {},
   "outputs": [],
   "source": []
  },
  {
   "cell_type": "code",
   "execution_count": null,
   "id": "a32f487a-e6d1-4fc9-9dac-d11bc2139cca",
   "metadata": {},
   "outputs": [],
   "source": []
  }
 ],
 "metadata": {
  "kernelspec": {
   "display_name": "Python 3 (ipykernel)",
   "language": "python",
   "name": "python3"
  },
  "language_info": {
   "codemirror_mode": {
    "name": "ipython",
    "version": 3
   },
   "file_extension": ".py",
   "mimetype": "text/x-python",
   "name": "python",
   "nbconvert_exporter": "python",
   "pygments_lexer": "ipython3",
   "version": "3.12.4"
  }
 },
 "nbformat": 4,
 "nbformat_minor": 5
}
