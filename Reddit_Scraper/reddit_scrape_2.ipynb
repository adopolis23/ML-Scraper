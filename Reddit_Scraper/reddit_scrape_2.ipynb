{
 "cells": [
  {
   "cell_type": "markdown",
   "id": "f04d0692",
   "metadata": {},
   "source": [
    "## Variable Define"
   ]
  },
  {
   "cell_type": "code",
   "execution_count": 26,
   "id": "3d168f71",
   "metadata": {},
   "outputs": [],
   "source": [
    "#imports and variables\n",
    "import datetime\n",
    "import praw\n",
    "import csv\n",
    "import numpy as np\n",
    "import pandas as pd\n",
    "\n",
    "from credentials import p_id, p_agent, p_secret, p_pass\n",
    "\n",
    "last_n_days = 1\n",
    "today = datetime.date.today().day\n",
    "\n",
    "sub_name = 'Stocks'\n",
    "csv_file = 'reddit_posts.csv'\n",
    "data_folder = 'data/'"
   ]
  },
  {
   "cell_type": "code",
   "execution_count": 27,
   "id": "d564eced",
   "metadata": {},
   "outputs": [
    {
     "name": "stdout",
     "output_type": "stream",
     "text": [
      "False\n",
      "Adopolis23\n"
     ]
    }
   ],
   "source": [
    "#connect to reddit API\n",
    "#check authentication\n",
    "#select subreddit\n",
    "\n",
    "reddit = praw.Reddit(\n",
    "    client_id=p_id,\n",
    "    client_secret=p_secret,\n",
    "    password=p_pass,\n",
    "    user_agent='scrapper_bot',\n",
    "    username=p_agent,\n",
    ")\n",
    "\n",
    "print(reddit.read_only)\n",
    "print(reddit.user.me())\n",
    "\n",
    "\n",
    "# Subreddit to search\n",
    "subreddit = reddit.subreddit(sub_name) \n"
   ]
  },
  {
   "cell_type": "code",
   "execution_count": 28,
   "id": "bb99c75a",
   "metadata": {},
   "outputs": [],
   "source": [
    "#function to return date of post\n",
    "def get_date(submission):\n",
    "    time = submission.created\n",
    "    return datetime.datetime.fromtimestamp(time)"
   ]
  },
  {
   "cell_type": "markdown",
   "id": "6e8ea2db",
   "metadata": {},
   "source": [
    "## Retrieve Posts and Store Text"
   ]
  },
  {
   "cell_type": "code",
   "execution_count": 29,
   "id": "14dd80b2",
   "metadata": {},
   "outputs": [],
   "source": [
    "data = pd.DataFrame(columns=['Title', 'Text', 'Date'])\n",
    "dates_to_save = np.arange(today, today-last_n_days, -1)"
   ]
  },
  {
   "cell_type": "code",
   "execution_count": 33,
   "id": "8892c826",
   "metadata": {},
   "outputs": [
    {
     "name": "stdout",
     "output_type": "stream",
     "text": [
      "<class 'str'>\n",
      "<class 'str'>\n",
      "<class 'str'>\n",
      "<class 'str'>\n",
      "<class 'str'>\n",
      "<class 'str'>\n",
      "<class 'str'>\n",
      "<class 'str'>\n",
      "<class 'str'>\n",
      "<class 'str'>\n",
      "<class 'str'>\n",
      "<class 'str'>\n",
      "<class 'str'>\n",
      "<class 'str'>\n",
      "<class 'str'>\n",
      "<class 'str'>\n",
      "<class 'str'>\n",
      "<class 'str'>\n"
     ]
    }
   ],
   "source": [
    "\n",
    "\n",
    "for submission in subreddit.new(limit=2000):\n",
    "        \n",
    "        if get_date(submission).day not in dates_to_save:\n",
    "            break\n",
    "        \n",
    "        print(type(submission.title))\n",
    "        #print(get_date(submission).day)\n",
    "        \n",
    "        data.loc[len(data.index)] = [submission.title, submission.selftext, get_date(submission).day]\n",
    "        #data = data._append(tmp, ignore_index = True)\n",
    "        \n",
    "        \n",
    "        \n",
    "        "
   ]
  },
  {
   "cell_type": "code",
   "execution_count": null,
   "id": "1aa65e8b",
   "metadata": {},
   "outputs": [],
   "source": []
  }
 ],
 "metadata": {
  "kernelspec": {
   "display_name": "Python 3 (ipykernel)",
   "language": "python",
   "name": "python3"
  },
  "language_info": {
   "codemirror_mode": {
    "name": "ipython",
    "version": 3
   },
   "file_extension": ".py",
   "mimetype": "text/x-python",
   "name": "python",
   "nbconvert_exporter": "python",
   "pygments_lexer": "ipython3",
   "version": "3.9.7"
  }
 },
 "nbformat": 4,
 "nbformat_minor": 5
}
